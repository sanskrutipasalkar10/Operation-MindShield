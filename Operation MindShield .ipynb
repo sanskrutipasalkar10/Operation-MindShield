{
 "cells": [
  {
   "cell_type": "markdown",
   "id": "517fe10f",
   "metadata": {},
   "source": [
    "Importing Required Libraries"
   ]
  },
  {
   "cell_type": "code",
   "execution_count": 1,
   "id": "a7064990",
   "metadata": {},
   "outputs": [],
   "source": [
    "import pandas as pd\n",
    "import seaborn as sns\n",
    "import matplotlib.pyplot as plt\n",
    "from sklearn.model_selection import train_test_split\n",
    "from sklearn.preprocessing import LabelEncoder, StandardScaler\n",
    "from sklearn.ensemble import RandomForestClassifier\n",
    "from sklearn.metrics import classification_report, confusion_matrix\n",
    "import joblib\n"
   ]
  },
  {
   "cell_type": "markdown",
   "id": "e58a7127",
   "metadata": {},
   "source": [
    "Loading and Exploring the PTSD Dataset & Label Encoding for Categorical Variables"
   ]
  },
  {
   "cell_type": "code",
   "execution_count": 2,
   "id": "2a87866a",
   "metadata": {},
   "outputs": [],
   "source": [
    "# Load Excel file\n",
    "file_path = 'C:\\\\Users\\\\sanskruti\\\\OneDrive\\\\Desktop\\\\Ptsd risk prediction anaysis.xlsx'\n",
    "xls = pd.ExcelFile(file_path)\n",
    "\n",
    "# Load the dataset from the correct sheet\n",
    "df = xls.parse('PTSD_Risk_Prediction_Dataset')\n",
    "\n",
    "# Drop non-informative columns\n",
    "df_clean = df.drop(columns=['Soldier_ID'])\n",
    "\n",
    "# Encode categorical columns using LabelEncoder\n",
    "label_encoders = {}\n",
    "for column in df_clean.select_dtypes(include='object').columns:\n",
    "    le = LabelEncoder()\n",
    "    df_clean[column] = le.fit_transform(df_clean[column])\n",
    "    label_encoders[column] = le\n"
   ]
  },
  {
   "cell_type": "markdown",
   "id": "704294f5",
   "metadata": {},
   "source": [
    "Splitting the Dataset into Training and Testing Sets"
   ]
  },
  {
   "cell_type": "code",
   "execution_count": 3,
   "id": "10c055b6",
   "metadata": {},
   "outputs": [],
   "source": [
    "X = df_clean.drop(columns=['PTSD_Risk_Level'])  # Features\n",
    "y = df_clean['PTSD_Risk_Level']  # Target\n"
   ]
  },
  {
   "cell_type": "code",
   "execution_count": 4,
   "id": "28f5ff8d",
   "metadata": {},
   "outputs": [],
   "source": [
    "scaler = StandardScaler()\n",
    "X_scaled = scaler.fit_transform(X)"
   ]
  },
  {
   "cell_type": "code",
   "execution_count": 5,
   "id": "3dad7608",
   "metadata": {},
   "outputs": [],
   "source": [
    "X_train, X_test, y_train, y_test = train_test_split(\n",
    "    X_scaled, y, test_size=0.2, random_state=42\n",
    ")\n"
   ]
  },
  {
   "cell_type": "markdown",
   "id": "9e420d89",
   "metadata": {},
   "source": [
    "Training a Random Forest Classifier Model"
   ]
  },
  {
   "cell_type": "code",
   "execution_count": 6,
   "id": "4311fa31",
   "metadata": {},
   "outputs": [
    {
     "data": {
      "text/html": [
       "<style>#sk-container-id-1 {color: black;background-color: white;}#sk-container-id-1 pre{padding: 0;}#sk-container-id-1 div.sk-toggleable {background-color: white;}#sk-container-id-1 label.sk-toggleable__label {cursor: pointer;display: block;width: 100%;margin-bottom: 0;padding: 0.3em;box-sizing: border-box;text-align: center;}#sk-container-id-1 label.sk-toggleable__label-arrow:before {content: \"▸\";float: left;margin-right: 0.25em;color: #696969;}#sk-container-id-1 label.sk-toggleable__label-arrow:hover:before {color: black;}#sk-container-id-1 div.sk-estimator:hover label.sk-toggleable__label-arrow:before {color: black;}#sk-container-id-1 div.sk-toggleable__content {max-height: 0;max-width: 0;overflow: hidden;text-align: left;background-color: #f0f8ff;}#sk-container-id-1 div.sk-toggleable__content pre {margin: 0.2em;color: black;border-radius: 0.25em;background-color: #f0f8ff;}#sk-container-id-1 input.sk-toggleable__control:checked~div.sk-toggleable__content {max-height: 200px;max-width: 100%;overflow: auto;}#sk-container-id-1 input.sk-toggleable__control:checked~label.sk-toggleable__label-arrow:before {content: \"▾\";}#sk-container-id-1 div.sk-estimator input.sk-toggleable__control:checked~label.sk-toggleable__label {background-color: #d4ebff;}#sk-container-id-1 div.sk-label input.sk-toggleable__control:checked~label.sk-toggleable__label {background-color: #d4ebff;}#sk-container-id-1 input.sk-hidden--visually {border: 0;clip: rect(1px 1px 1px 1px);clip: rect(1px, 1px, 1px, 1px);height: 1px;margin: -1px;overflow: hidden;padding: 0;position: absolute;width: 1px;}#sk-container-id-1 div.sk-estimator {font-family: monospace;background-color: #f0f8ff;border: 1px dotted black;border-radius: 0.25em;box-sizing: border-box;margin-bottom: 0.5em;}#sk-container-id-1 div.sk-estimator:hover {background-color: #d4ebff;}#sk-container-id-1 div.sk-parallel-item::after {content: \"\";width: 100%;border-bottom: 1px solid gray;flex-grow: 1;}#sk-container-id-1 div.sk-label:hover label.sk-toggleable__label {background-color: #d4ebff;}#sk-container-id-1 div.sk-serial::before {content: \"\";position: absolute;border-left: 1px solid gray;box-sizing: border-box;top: 0;bottom: 0;left: 50%;z-index: 0;}#sk-container-id-1 div.sk-serial {display: flex;flex-direction: column;align-items: center;background-color: white;padding-right: 0.2em;padding-left: 0.2em;position: relative;}#sk-container-id-1 div.sk-item {position: relative;z-index: 1;}#sk-container-id-1 div.sk-parallel {display: flex;align-items: stretch;justify-content: center;background-color: white;position: relative;}#sk-container-id-1 div.sk-item::before, #sk-container-id-1 div.sk-parallel-item::before {content: \"\";position: absolute;border-left: 1px solid gray;box-sizing: border-box;top: 0;bottom: 0;left: 50%;z-index: -1;}#sk-container-id-1 div.sk-parallel-item {display: flex;flex-direction: column;z-index: 1;position: relative;background-color: white;}#sk-container-id-1 div.sk-parallel-item:first-child::after {align-self: flex-end;width: 50%;}#sk-container-id-1 div.sk-parallel-item:last-child::after {align-self: flex-start;width: 50%;}#sk-container-id-1 div.sk-parallel-item:only-child::after {width: 0;}#sk-container-id-1 div.sk-dashed-wrapped {border: 1px dashed gray;margin: 0 0.4em 0.5em 0.4em;box-sizing: border-box;padding-bottom: 0.4em;background-color: white;}#sk-container-id-1 div.sk-label label {font-family: monospace;font-weight: bold;display: inline-block;line-height: 1.2em;}#sk-container-id-1 div.sk-label-container {text-align: center;}#sk-container-id-1 div.sk-container {/* jupyter's `normalize.less` sets `[hidden] { display: none; }` but bootstrap.min.css set `[hidden] { display: none !important; }` so we also need the `!important` here to be able to override the default hidden behavior on the sphinx rendered scikit-learn.org. See: https://github.com/scikit-learn/scikit-learn/issues/21755 */display: inline-block !important;position: relative;}#sk-container-id-1 div.sk-text-repr-fallback {display: none;}</style><div id=\"sk-container-id-1\" class=\"sk-top-container\"><div class=\"sk-text-repr-fallback\"><pre>RandomForestClassifier(random_state=42)</pre><b>In a Jupyter environment, please rerun this cell to show the HTML representation or trust the notebook. <br />On GitHub, the HTML representation is unable to render, please try loading this page with nbviewer.org.</b></div><div class=\"sk-container\" hidden><div class=\"sk-item\"><div class=\"sk-estimator sk-toggleable\"><input class=\"sk-toggleable__control sk-hidden--visually\" id=\"sk-estimator-id-1\" type=\"checkbox\" checked><label for=\"sk-estimator-id-1\" class=\"sk-toggleable__label sk-toggleable__label-arrow\">RandomForestClassifier</label><div class=\"sk-toggleable__content\"><pre>RandomForestClassifier(random_state=42)</pre></div></div></div></div></div>"
      ],
      "text/plain": [
       "RandomForestClassifier(random_state=42)"
      ]
     },
     "execution_count": 6,
     "metadata": {},
     "output_type": "execute_result"
    }
   ],
   "source": [
    "model = RandomForestClassifier(n_estimators=100, random_state=42)\n",
    "model.fit(X_train, y_train)\n"
   ]
  },
  {
   "cell_type": "code",
   "execution_count": 7,
   "id": "6f183fe2",
   "metadata": {},
   "outputs": [
    {
     "data": {
      "image/png": "[encoded data removed]",
      "text/plain": [
       "<Figure size 432x288 with 2 Axes>"
      ]
     },
     "metadata": {
      "needs_background": "light"
     },
     "output_type": "display_data"
    }
   ],
   "source": [
    "y_pred = model.predict(X_test)\n",
    "\n",
    "# Confusion Matrix\n",
    "conf_matrix = confusion_matrix(y_test, y_pred)\n",
    "plt.figure(figsize=(6, 4))\n",
    "sns.heatmap(conf_matrix, annot=True, fmt='d', cmap='Blues',\n",
    "            xticklabels=label_encoders['PTSD_Risk_Level'].classes_,\n",
    "            yticklabels=label_encoders['PTSD_Risk_Level'].classes_)\n",
    "plt.xlabel('Predicted')\n",
    "plt.ylabel('Actual')\n",
    "plt.title('Confusion Matrix')\n",
    "plt.tight_layout()\n",
    "plt.show()"
   ]
  },
  {
   "cell_type": "markdown",
   "id": "bedc1dd6",
   "metadata": {},
   "source": [
    "Evaluating the Model Performance"
   ]
  },
  {
   "cell_type": "code",
   "execution_count": 8,
   "id": "19476c05",
   "metadata": {},
   "outputs": [
    {
     "name": "stdout",
     "output_type": "stream",
     "text": [
      "              precision    recall  f1-score   support\n",
      "\n",
      "           0       1.00      0.48      0.65        25\n",
      "           1       0.98      0.77      0.86        62\n",
      "           2       0.81      0.99      0.89       113\n",
      "\n",
      "    accuracy                           0.86       200\n",
      "   macro avg       0.93      0.75      0.80       200\n",
      "weighted avg       0.88      0.86      0.85       200\n",
      "\n"
     ]
    }
   ],
   "source": [
    "# Classification Report\n",
    "report = classification_report(y_test, y_pred)\n",
    "print(report)\n"
   ]
  },
  {
   "cell_type": "markdown",
   "id": "907dc69e",
   "metadata": {},
   "source": [
    "Model Evaluation Using Cross-Validation"
   ]
  },
  {
   "cell_type": "code",
   "execution_count": 9,
   "id": "e4aef60d",
   "metadata": {},
   "outputs": [
    {
     "name": "stdout",
     "output_type": "stream",
     "text": [
      "Cross-Validation Scores (5-fold): [0.915 0.89  0.86  0.865 0.89 ]\n",
      "Mean Accuracy: 0.884\n",
      "Standard Deviation: 0.0198\n"
     ]
    }
   ],
   "source": [
    "from sklearn.model_selection import cross_val_score\n",
    "rf = RandomForestClassifier(n_estimators=100, random_state=42)\n",
    "rf.fit(X_train, y_train)\n",
    "\n",
    "# Step 2: Evaluate on test set (Optional)\n",
    "y_pred = rf.predict(X_test)\n",
    "\n",
    "# Perform 5-fold cross-validation\n",
    "cv_scores = cross_val_score(rf, X, y, cv=5)\n",
    "\n",
    "print(\"Cross-Validation Scores (5-fold):\", cv_scores)\n",
    "print(\"Mean Accuracy:\", round(cv_scores.mean(), 4))\n",
    "print(\"Standard Deviation:\", round(cv_scores.std(), 4))\n"
   ]
  },
  {
   "cell_type": "markdown",
   "id": "c8a3e0b5",
   "metadata": {},
   "source": [
    "Plotting feature importance "
   ]
  },
  {
   "cell_type": "code",
   "execution_count": 10,
   "id": "c278f016",
   "metadata": {},
   "outputs": [
    {
     "data": {
      "image/png": "[encoded data removed]",
      "text/plain": [
       "<Figure size 720x432 with 1 Axes>"
      ]
     },
     "metadata": {
      "needs_background": "light"
     },
     "output_type": "display_data"
    }
   ],
   "source": [
    "importances = rf.feature_importances_\n",
    "features = X.columns\n",
    "feature_df = pd.DataFrame({'Feature': features, 'Importance': importances})\n",
    "feature_df = feature_df.sort_values(by='Importance', ascending=False)\n",
    "\n",
    "# Plotting\n",
    "plt.figure(figsize=(10, 6))\n",
    "sns.barplot(x='Importance', y='Feature', data=feature_df, palette='viridis')\n",
    "plt.title('Feature Importance - PTSD Risk Prediction')\n",
    "plt.xlabel('Importance Score')\n",
    "plt.ylabel('Features')\n",
    "plt.tight_layout()\n",
    "plt.show()\n"
   ]
  },
  {
   "cell_type": "markdown",
   "id": "f00239dd",
   "metadata": {},
   "source": [
    "Saving the models and encoders for further prediction"
   ]
  },
  {
   "cell_type": "code",
   "execution_count": 11,
   "id": "551638b4",
   "metadata": {},
   "outputs": [
    {
     "data": {
      "text/plain": [
       "['ptsd_label_encoders.pkl']"
      ]
     },
     "execution_count": 11,
     "metadata": {},
     "output_type": "execute_result"
    }
   ],
   "source": [
    "joblib.dump(model, 'ptsd_model.pkl')\n",
    "joblib.dump(scaler, 'ptsd_scaler.pkl')\n",
    "joblib.dump(label_encoders, 'ptsd_label_encoders.pkl')\n"
   ]
  },
  {
   "cell_type": "markdown",
   "id": "4d18728e",
   "metadata": {},
   "source": [
    "Making Predictions on New Data"
   ]
  },
  {
   "cell_type": "code",
   "execution_count": 12,
   "id": "4843e683",
   "metadata": {},
   "outputs": [],
   "source": [
    "# Step 1: Load trained model, scaler, encoders \n",
    "model = joblib.load('ptsd_model.pkl')\n",
    "scaler = joblib.load('ptsd_scaler.pkl')\n",
    "label_encoders = joblib.load('ptsd_label_encoders.pkl')"
   ]
  },
  {
   "cell_type": "code",
   "execution_count": 13,
   "id": "d277c3ba",
   "metadata": {},
   "outputs": [],
   "source": [
    "# Step 2: Load new data from Excel file \n",
    "file_path = 'C:\\\\Users\\\\sanskruti\\\\OneDrive\\\\Desktop\\\\Soldier.xlsx'\n",
    "df = pd.read_excel(file_path, sheet_name='Sheet1')\n",
    "\n",
    "# Step 3: Keep Soldier_ID separately for reference \n",
    "soldier_ids = df['Soldier_ID']\n",
    "\n",
    "# Step 4: Drop non-informative or unnecessary columns \n",
    "df_clean = df.drop(columns=['Soldier_ID'])\n",
    "\n",
    "# Step 5: Encode categorical columns using saved encoders \n",
    "for col in df_clean.columns:\n",
    "    if col in label_encoders:\n",
    "        le = label_encoders[col]\n",
    "        df_clean[col] = le.transform(df_clean[col])"
   ]
  },
  {
   "cell_type": "code",
   "execution_count": 14,
   "id": "03374b74",
   "metadata": {},
   "outputs": [],
   "source": [
    "# Step 6: Drop target column if exists (in case you're predicting) \n",
    "if 'PTSD_Risk_Level' in df_clean.columns:\n",
    "    df_clean = df_clean.drop(columns=['PTSD_Risk_Level'])\n",
    "\n",
    "# Step 7: Scale features \n",
    "X_scaled = scaler.transform(df_clean)\n",
    "\n",
    "# Step 8: Make predictions \n",
    "predictions = model.predict(X_scaled)\n"
   ]
  },
  {
   "cell_type": "code",
   "execution_count": 15,
   "id": "5ff892fe",
   "metadata": {},
   "outputs": [
    {
     "name": "stdout",
     "output_type": "stream",
     "text": [
      "Predictions saved to: C:\\Users\\sanskruti\\OneDrive\\Desktop\\PTSD_Predictions_Output.xlsx\n"
     ]
    }
   ],
   "source": [
    "# Step 9: Decode predictions (if encoder was used on target)\n",
    "risk_labels = label_encoders['PTSD_Risk_Level'].inverse_transform(predictions)\n",
    "\n",
    "# Step 10: Combine predictions with original data\n",
    "df['Predicted_Risk_Level'] = risk_labels\n",
    "\n",
    "# Step 11: Save predictions to new Excel file\n",
    "output_file = 'C:\\\\Users\\\\sanskruti\\\\OneDrive\\\\Desktop\\\\PTSD_Predictions_Output.xlsx'\n",
    "df.to_excel(output_file, index=False)\n",
    "\n",
    "print(\"Predictions saved to:\", output_file)\n"
   ]
  },
  {
   "cell_type": "markdown",
   "id": "68e36a7e",
   "metadata": {},
   "source": [
    "Filtering High-Risk Soldiers for Alerts"
   ]
  },
  {
   "cell_type": "code",
   "execution_count": 16,
   "id": "0724aea0",
   "metadata": {},
   "outputs": [
    {
     "name": "stdout",
     "output_type": "stream",
     "text": [
      "ALERT: High PTSD Risk Detected for the following soldiers:\n",
      "    Soldier_ID Predicted_Risk_Level\n",
      "1        S0002                 High\n",
      "4        S0005                 High\n",
      "8        S0009                 High\n",
      "19       S0020                 High\n",
      "27       S0028                 High\n",
      "..         ...                  ...\n",
      "922      S0923                 High\n",
      "936      S0937                 High\n",
      "943      S0944                 High\n",
      "966      S0967                 High\n",
      "972      S0973                 High\n",
      "\n",
      "[101 rows x 2 columns]\n",
      " Alert report saved to: C:\\Users\\sanskruti\\OneDrive\\Desktop\\PTSD_Alerts.xlsx\n"
     ]
    }
   ],
   "source": [
    "#Step 7: AUTOMATED ALERT SYSTEM \n",
    "\n",
    "# Define alert categories\n",
    "alert_levels = ['High', 'Severe']\n",
    "\n",
    "# Filter for high-risk soldiers\n",
    "alert_df = df[df['Predicted_Risk_Level'].isin(alert_levels)]\n",
    "\n",
    "if not alert_df.empty:\n",
    "    print(\"ALERT: High PTSD Risk Detected for the following soldiers:\")\n",
    "    print(alert_df[['Soldier_ID', 'Predicted_Risk_Level']])\n",
    "\n",
    "    # Save alerts to a separate file\n",
    "    alert_output = 'C:\\\\Users\\\\sanskruti\\\\OneDrive\\\\Desktop\\\\PTSD_Alerts.xlsx'\n",
    "    alert_df.to_excel(alert_output, index=False)\n",
    "    print(f\" Alert report saved to: {alert_output}\")\n",
    "else:\n",
    "    print(\" No high-risk cases found in this batch.\")\n"
   ]
  },
  {
   "cell_type": "markdown",
   "id": "81324cd6",
   "metadata": {},
   "source": [
    "Email Alert Setup for High PTSD Risk Soldiers"
   ]
  },
  {
   "cell_type": "code",
   "execution_count": 17,
   "id": "e5b0be93",
   "metadata": {},
   "outputs": [],
   "source": [
    "import smtplib\n",
    "from email.mime.text import MIMEText\n",
    "from email.mime.multipart import MIMEMultipart"
   ]
  },
  {
   "cell_type": "code",
   "execution_count": 18,
   "id": "c03c7734",
   "metadata": {},
   "outputs": [
    {
     "name": "stdout",
     "output_type": "stream",
     "text": [
      "Email alert sent successfully!\n"
     ]
    }
   ],
   "source": [
    "# Load your predicted dataset\n",
    "df = pd.read_excel('C:\\\\Users\\\\sanskruti\\\\OneDrive\\\\Desktop\\\\PTSD_Predictions_Output.xlsx')  \n",
    "\n",
    "# Filter only High PTSD Risk\n",
    "high_risk_df = df[df['Predicted_Risk_Level'] == 'High']\n",
    "\n",
    "if not high_risk_df.empty:\n",
    "    # Extract only Soldier_IDs\n",
    "    soldier_ids = high_risk_df['Soldier_ID'].tolist()\n",
    "    soldier_ids_str = \"\\n\".join(str(sid) for sid in soldier_ids)\n",
    "\n",
    "    # Email setup\n",
    "    sender_email = \"sanskrutipasalkar10@gmail.com\"\n",
    "    receiver_email = \"sanskrutipasalkar2@gmail.com\"\n",
    "    app_password = \"ydgo hcgt kydl ohac\"  # App password\n",
    "\n",
    "    # Email content\n",
    "    subject = \"High PTSD Risk Alert - Soldiers Identified\"\n",
    "    body = \"The following Soldier_IDs are predicted to have HIGH PTSD Risk:\\n\\n\"\n",
    "    body += soldier_ids_str\n",
    "\n",
    "    # Create email\n",
    "    message = MIMEMultipart()\n",
    "    message[\"From\"] = sender_email\n",
    "    message[\"To\"] = receiver_email\n",
    "    message[\"Subject\"] = subject\n",
    "    message.attach(MIMEText(body, \"plain\"))\n",
    "\n",
    "    # Send email\n",
    "    try:\n",
    "        with smtplib.SMTP_SSL(\"smtp.gmail.com\", 465) as server:\n",
    "            server.login(sender_email, app_password)\n",
    "            server.send_message(message)\n",
    "        print(\"Email alert sent successfully!\")\n",
    "    except Exception as e:\n",
    "        print(\"Error sending email:\", e)\n",
    "else:\n",
    "    print(\"No high-risk soldiers found. No email sent.\")\n"
   ]
  },
  {
   "cell_type": "code",
   "execution_count": null,
   "id": "0eb0d575",
   "metadata": {},
   "outputs": [],
   "source": []
  }
 ],
 "metadata": {
  "kernelspec": {
   "display_name": "Python 3 (ipykernel)",
   "language": "python",
   "name": "python3"
  },
  "language_info": {
   "codemirror_mode": {
    "name": "ipython",
    "version": 3
   },
   "file_extension": ".py",
   "mimetype": "text/x-python",
   "name": "python",
   "nbconvert_exporter": "python",
   "pygments_lexer": "ipython3",
   "version": "3.9.7"
  }
 },
 "nbformat": 4,
 "nbformat_minor": 5
}
